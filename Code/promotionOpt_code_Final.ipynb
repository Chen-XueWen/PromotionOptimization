{
 "cells": [
  {
   "cell_type": "markdown",
   "metadata": {},
   "source": [
    "# Ecommerce Optimization Code"
   ]
  },
  {
   "cell_type": "markdown",
   "metadata": {},
   "source": [
    "### Formulation of a promotion optimization problem:\n",
    "\n",
    "\\begin{equation}\n",
    "\\begin{split}\n",
    "\\max~ & \\sum_{j=1}^9\\sum_{i=1}^n p_{ij}x_{ij}d_{ij} + \\sum_{i=1}^n y_{i} \\bar{p}_{i} \\bar{d}_{i} \\\\\n",
    "s.t. ~& \\sum_{j=1}^9x_{ij}\\leq 1, ~ i = 1,...,n\\\\\n",
    "& \\sum _{j=1}^{9}\\sum _{i=1}^{n} p_{ij} x_{ij} \\leq c\\\\\n",
    "& y_{i}= 1-\\sum_{j=1}^9 x_{ij}, ~ i = 1,...,n \\\\\n",
    "& x_{ij} \\in \\{0,1\\}\n",
    "\\end{split}\n",
    "\\end{equation}\n",
    "\n",
    "\n",
    "c = User defined constant to limit number of promotion <br>\n",
    "n = number of products <br>\n",
    "j = different prices for each product <br>\n",
    "\n",
    "d<sub>ij</sub> = Demand for product i at j price <br>\n",
    "x<sub>ij</sub> = Binary Selection, if x<sup>ij</sup> = 1 means select at product i and price j, 0 if otherwise  <br>\n",
    "p<sub>ij</sub> = j<sup>th</sup> Price for product i "
   ]
  },
  {
   "cell_type": "code",
   "execution_count": 1,
   "metadata": {},
   "outputs": [],
   "source": [
    "import csv\n",
    "from gurobipy import *\n",
    "import pandas as pd\n",
    "import numpy as np\n",
    "file = open('OptimizerInput.csv')\n",
    "csvreader = csv.reader(file)"
   ]
  },
  {
   "cell_type": "code",
   "execution_count": 2,
   "metadata": {},
   "outputs": [
    {
     "data": {
      "text/plain": [
       "['id', 'product', 'price', 'demand']"
      ]
     },
     "execution_count": 2,
     "metadata": {},
     "output_type": "execute_result"
    }
   ],
   "source": [
    "header = []\n",
    "header = next(csvreader)\n",
    "header"
   ]
  },
  {
   "cell_type": "code",
   "execution_count": 3,
   "metadata": {},
   "outputs": [
    {
     "name": "stdout",
     "output_type": "stream",
     "text": [
      "[['1', '10 COLOUR SPACEBOY PEN', '0.821111111111111', '73.172647756993'], ['1', '10 COLOUR SPACEBOY PEN', '0.922222222222222', '54.126225061631'], ['1', '10 COLOUR SPACEBOY PEN', '1.02333333333333', '45.3624739654545'], ['1', '10 COLOUR SPACEBOY PEN', '1.12444444444444', '38.5223929109929'], ['1', '10 COLOUR SPACEBOY PEN', '1.22555555555556', '31.2091023340694'], ['1', '10 COLOUR SPACEBOY PEN', '1.32666666666667', '23.4628943416618'], ['1', '10 COLOUR SPACEBOY PEN', '1.42777777777778', '15.7804425707803'], ['1', '10 COLOUR SPACEBOY PEN', '1.52888888888889', '8.54204136171192'], ['1', '10 COLOUR SPACEBOY PEN', '1.63', '1.9488612255597'], ['2', '12 COLOURED PARTY BALLOONS', '0.65', '13.9609375'], ['2', '12 COLOURED PARTY BALLOONS', '0.716666666666667', '12.5208333333333']]\n",
      "<class 'list'>\n"
     ]
    }
   ],
   "source": [
    "rows = []\n",
    "for row in csvreader:\n",
    "        rows.append(row)\n",
    "print(rows[1:12])\n",
    "\n",
    "print(type(rows))"
   ]
  },
  {
   "cell_type": "code",
   "execution_count": 4,
   "metadata": {},
   "outputs": [],
   "source": [
    "#We have 2395 products and 10 different price\n",
    "#We will have 2 different set. 1 discounted set with 9 prices and 1 original set with 1 price\n",
    "numofproducts = 2395\n",
    "\n",
    "discprice = np.zeros((numofproducts, 9))\n",
    "discrevenue = np.zeros((numofproducts, 9))\n",
    "\n",
    "origprice = np.zeros(numofproducts)\n",
    "origrevenue = np.zeros(numofproducts)\n",
    "\n",
    "oneprice = np.ones(numofproducts)\n",
    "prod = []\n",
    "\n",
    "\n",
    "for row in range(0, len(rows), 10):\n",
    "    pid = (int(rows[row][0]) - 1)\n",
    "    for col in range(10):\n",
    "        if col == 9:\n",
    "            origprice[pid] = float(rows[row + col][2])\n",
    "            origrevenue[pid] = float(rows[row + col][2]) * float(rows[row + col][3])\n",
    "            prod.append(rows[row + col][1])\n",
    "        else:\n",
    "            discprice[pid,col] = float(rows[row + col][2])\n",
    "            discrevenue[pid,col] = float(rows[row + col][2]) * float(rows[row + col][3])\n",
    "            "
   ]
  },
  {
   "cell_type": "code",
   "execution_count": 5,
   "metadata": {},
   "outputs": [
    {
     "name": "stdout",
     "output_type": "stream",
     "text": [
      "(2395, 9)\n",
      "(2395,)\n",
      "(2395, 9)\n",
      "(2395,)\n",
      "(2395,)\n"
     ]
    }
   ],
   "source": [
    "print(discprice.shape)\n",
    "print(oneprice.shape)\n",
    "print(discrevenue.shape)\n",
    "print(origprice.shape)\n",
    "print(origrevenue.shape)"
   ]
  },
  {
   "cell_type": "code",
   "execution_count": 6,
   "metadata": {},
   "outputs": [],
   "source": [
    "#print(oneprice)\n",
    "#print(discprice)\n",
    "#print(origprice)\n",
    "#print(revenue)\n",
    "#print(prod)"
   ]
  },
  {
   "cell_type": "code",
   "execution_count": 7,
   "metadata": {},
   "outputs": [
    {
     "name": "stdout",
     "output_type": "stream",
     "text": [
      "2395 9\n"
     ]
    }
   ],
   "source": [
    "I, J = discrevenue.shape\n",
    "print(I, J)"
   ]
  },
  {
   "cell_type": "code",
   "execution_count": 8,
   "metadata": {},
   "outputs": [
    {
     "name": "stdout",
     "output_type": "stream",
     "text": [
      "Set parameter Username\n",
      "Academic license - for non-commercial use only - expires 2022-01-10\n",
      "Gurobi Optimizer version 9.5.0 build v9.5.0rc5 (win64)\n",
      "Thread count: 2 physical cores, 4 logical processors, using up to 4 threads\n",
      "Optimize a model with 2404 rows, 21555 columns and 215550 nonzeros\n",
      "Model fingerprint: 0xbb744248\n",
      "Variable types: 0 continuous, 21555 integer (21555 binary)\n",
      "Coefficient statistics:\n",
      "  Matrix range     [4e-02, 3e+02]\n",
      "  Objective range  [2e-14, 4e+03]\n",
      "  Bounds range     [1e+00, 1e+00]\n",
      "  RHS range        [1e+00, 3e+02]\n",
      "Found heuristic solution: objective 476123.43899\n",
      "Presolve removed 1622 rows and 16866 columns\n",
      "Presolve time: 0.20s\n",
      "Presolved: 782 rows, 4689 columns, 7920 nonzeros\n",
      "Variable types: 0 continuous, 4689 integer (4689 binary)\n",
      "Found heuristic solution: objective 486371.76507\n",
      "\n",
      "Root relaxation: objective 5.490079e+05, 1172 iterations, 0.08 seconds (0.09 work units)\n",
      "\n",
      "    Nodes    |    Current Node    |     Objective Bounds      |     Work\n",
      " Expl Unexpl |  Obj  Depth IntInf | Incumbent    BestBd   Gap | It/Node Time\n",
      "\n",
      "     0     0 549007.912    0    1 486371.765 549007.912  12.9%     -    0s\n",
      "H    0     0                    548398.13901 549007.912  0.11%     -    0s\n",
      "H    0     0                    548956.46737 549007.912  0.01%     -    0s\n",
      "\n",
      "Explored 1 nodes (1172 simplex iterations) in 0.36 seconds (0.26 work units)\n",
      "Thread count was 4 (of 4 available processors)\n",
      "\n",
      "Solution count 4: 548956 548398 486372 476123 \n",
      "\n",
      "Optimal solution found (tolerance 1.00e-04)\n",
      "Best objective 5.489564673688e+05, best bound 5.490079120080e+05, gap 0.0094%\n",
      "\n",
      "Obj: 548956.467368834\n"
     ]
    }
   ],
   "source": [
    "tp = Model(\"promotion\")\n",
    "\n",
    "# User Defined Parameters, In this example we set c=4000\n",
    "c = 268\n",
    "\n",
    "# x variable is binary hence added vtype=GRB.BINARY\n",
    "x = tp.addVars(I, J, vtype=GRB.BINARY)\n",
    "\n",
    "# Set objective\n",
    "tp.setObjective(quicksum(discrevenue[i,j]*x[i,j] for i in range(I) for j in range(J)) + quicksum(quicksum(1-x[i,j] for j in range(J))*origrevenue[i] for i in range(I)), GRB.MAXIMIZE)\n",
    "\n",
    "# Add 1 chosen price constraints: \n",
    "tp.addConstrs((quicksum(x[i,j] for j in range(J)) <= oneprice[i] for i in range(I)), \"oneprice\")\n",
    "\n",
    "# Add sum of all the selected prices is equal to c constraints: \n",
    "tp.addConstrs((quicksum(discprice[i,j]*x[i,j] for i in range(I) for j in range(J))) <= c for j in range(J))\n",
    "\n",
    "\n",
    "# Solving the model\n",
    "tp.optimize()\n",
    "\n",
    "# Show Result\n",
    "print('\\nObj:', tp.objVal)"
   ]
  },
  {
   "cell_type": "code",
   "execution_count": 9,
   "metadata": {},
   "outputs": [
    {
     "name": "stdout",
     "output_type": "stream",
     "text": [
      "(21555,)\n"
     ]
    }
   ],
   "source": [
    "result = np.zeros(I*J)\n",
    "idx = 0\n",
    "print(result.shape)\n",
    "\n",
    "for i in range(I):\n",
    "    for j in range(J):\n",
    "        result[idx] = int(x[i,j].x)\n",
    "        idx = idx + 1"
   ]
  },
  {
   "cell_type": "code",
   "execution_count": 10,
   "metadata": {},
   "outputs": [
    {
     "name": "stdout",
     "output_type": "stream",
     "text": [
      "<class 'numpy.ndarray'>\n",
      "[0. 0. 0. 0. 0. 0. 0. 0. 0.]\n"
     ]
    }
   ],
   "source": [
    "print(type(result))\n",
    "print(result[1:10])\n",
    "#np.savetxt(\"promoResult.csv\", result, delimiter=\",\")"
   ]
  },
  {
   "cell_type": "code",
   "execution_count": 11,
   "metadata": {},
   "outputs": [],
   "source": [
    "#Process the optimized solution into more user friendly rather than 0s and 1s\n",
    "\n",
    "idx = 0\n",
    "discitem = []\n",
    "discpid = []\n",
    "optprice = []\n",
    "optrev = []\n",
    "\n",
    "origitem =[]\n",
    "origpid = []\n",
    "pricemax = []\n",
    "origrev = []\n",
    "\n",
    "for row in range(0, len(result), 9):\n",
    "    for col in range(9):\n",
    "        #print(result[row+col])\n",
    "        if result[row+col] == 1:\n",
    "            discitem.append(prod[idx])\n",
    "            discpid.append(idx+1)\n",
    "            optprice.append(discprice[idx,col])\n",
    "            optrev.append(discrevenue[idx,col])\n",
    "            break\n",
    "        #Keep it as original price if no discount \n",
    "        if col == 8:\n",
    "            origitem.append(prod[idx])\n",
    "            origpid.append(idx+1)\n",
    "            pricemax.append(origprice[idx])\n",
    "            origrev.append(origrevenue[idx])\n",
    "        \n",
    "    idx = idx + 1"
   ]
  },
  {
   "cell_type": "code",
   "execution_count": 12,
   "metadata": {},
   "outputs": [],
   "source": [
    "d = {'id':discpid, 'Product':discitem, 'Optimized Price': optprice, 'Optimized Revenue': optrev}\n",
    "df = pd.DataFrame(d)\n",
    "df.to_csv('DiscountResult.csv', index=False)"
   ]
  },
  {
   "cell_type": "code",
   "execution_count": 13,
   "metadata": {},
   "outputs": [],
   "source": [
    "d2 = {'id':origpid, 'Product':origitem, 'Original Price': pricemax, 'Original Revenue': origrev}\n",
    "df2 = pd.DataFrame(d2)\n",
    "df2.to_csv('NonDiscountItem.csv', index=False)"
   ]
  },
  {
   "cell_type": "code",
   "execution_count": 15,
   "metadata": {},
   "outputs": [
    {
     "name": "stdout",
     "output_type": "stream",
     "text": [
      "268\n"
     ]
    },
    {
     "data": {
      "text/plain": [
       "136770.41537521078"
      ]
     },
     "execution_count": 15,
     "metadata": {},
     "output_type": "execute_result"
    }
   ],
   "source": [
    "print(c)\n",
    "sum(optrev) + sum(origrev)"
   ]
  },
  {
   "cell_type": "code",
   "execution_count": null,
   "metadata": {},
   "outputs": [],
   "source": []
  }
 ],
 "metadata": {
  "kernelspec": {
   "display_name": "Python 3",
   "language": "python",
   "name": "python3"
  },
  "language_info": {
   "codemirror_mode": {
    "name": "ipython",
    "version": 3
   },
   "file_extension": ".py",
   "mimetype": "text/x-python",
   "name": "python",
   "nbconvert_exporter": "python",
   "pygments_lexer": "ipython3",
   "version": "3.8.8"
  }
 },
 "nbformat": 4,
 "nbformat_minor": 2
}
